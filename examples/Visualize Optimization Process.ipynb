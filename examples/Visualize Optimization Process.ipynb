{
 "cells": [
  {
   "cell_type": "markdown",
   "metadata": {},
   "source": [
    "# Introduction\n",
    "\n",
    "This notebook visualizes the optimization process of the `PointRotations` class. The input points, transformed by the network, are displayed as the parameters of the network&mdash;the transformation quaternions&mdash;are optimized.\n",
    "\n",
    "In addition to `symmys` and `tensorflow`, this notebook requires the following other packages (all available on PyPI):\n",
    "- `flowws-analysis`\n",
    "- `flowws-freud`\n",
    "- `keras-gtar`\n",
    "- `plato-draw`\n",
    "- `pyriodic-aflow`"
   ]
  },
  {
   "cell_type": "code",
   "execution_count": null,
   "metadata": {},
   "outputs": [],
   "source": [
    "import tensorflow as tf\n",
    "tf.config.optimizer.set_jit(True)\n",
    "gpus = tf.config.experimental.list_physical_devices('GPU')\n",
    "if gpus:\n",
    "    try:\n",
    "        # Currently, memory growth needs to be the same across GPUs\n",
    "        for gpu in gpus:\n",
    "            tf.config.experimental.set_memory_growth(gpu, True)\n",
    "        logical_gpus = tf.config.experimental.list_logical_devices('GPU')\n",
    "        print(len(gpus), \"Physical GPUs,\", len(logical_gpus), \"Logical GPUs\")\n",
    "    except RuntimeError as e:\n",
    "        # Memory growth must be set before GPUs have been initialized\n",
    "        print(e)"
   ]
  },
  {
   "cell_type": "code",
   "execution_count": null,
   "metadata": {},
   "outputs": [],
   "source": [
    "# render in the notebook or render in an external window (and save frames to make a movie)\n",
    "notebook = True\n",
    "\n",
    "if not notebook:\n",
    "    %gui qt5\n",
    "    import vispy, vispy.app\n",
    "    vispy.app.use_app('pyside2')\n",
    "\n",
    "import functools\n",
    "\n",
    "import ipywidgets\n",
    "import keras_gtar\n",
    "import plato, plato.draw.vispy as draw\n",
    "import symmys\n",
    "\n",
    "import flowws\n",
    "from flowws_analysis import Pyriodic\n",
    "from flowws_freud import SmoothBOD"
   ]
  },
  {
   "cell_type": "code",
   "execution_count": null,
   "metadata": {},
   "outputs": [],
   "source": [
    "def get_bonds(name, N=512, noise=1e-2, neighbors=4):\n",
    "    scope = flowws.Workflow([\n",
    "        Pyriodic(structure=name, size=N, noise=noise),\n",
    "        SmoothBOD(r_max=2, num_neighbors=neighbors)\n",
    "    ]).run()\n",
    "    return scope['SmoothBOD.bonds']"
   ]
  },
  {
   "cell_type": "code",
   "execution_count": null,
   "metadata": {
    "scrolled": false
   },
   "outputs": [],
   "source": [
    "fname = '/tmp/dump.tar'\n",
    "structure = 'cF8-C'\n",
    "neighbors = 6\n",
    "\n",
    "bonds = get_bonds(structure, neighbors=neighbors)\n",
    "print(bonds.shape)\n",
    "\n",
    "# currently very complex structures may require adjusting the distance scale for the loss function, like:\n",
    "# loss = functools.partial(symmys.losses.mean_exp_rsq, r_scale=1./4)\n",
    "loss = symmys.losses.mean_exp_rsq\n",
    "opt = symmys.optimization.PointRotations(32, 8, loss=loss)\n",
    "\n",
    "callbacks = [keras_gtar.callbacks.GTARLogger(fname, when='pre_batch', append=False)]\n",
    "opt.fit(bonds, extra_callbacks=callbacks);"
   ]
  },
  {
   "cell_type": "code",
   "execution_count": null,
   "metadata": {},
   "outputs": [],
   "source": [
    "traj = keras_gtar.Trajectory(fname)\n",
    "num_frames = len(traj)\n",
    "\n",
    "prim = draw.SpherePoints(on_surface=False)\n",
    "scene = draw.Scene(\n",
    "    prim, size=(4, 4), pixel_scale=128,\n",
    "    features=dict(additive_rendering=dict(invert=True)))\n",
    "\n",
    "scene.show()\n",
    "\n",
    "test_bonds = get_bonds(structure, N=64, neighbors=neighbors)\n",
    "\n",
    "# cache models to avoid having to load and recompile if backtracking\n",
    "# in the interactive visualization\n",
    "@functools.lru_cache\n",
    "def get_model(index):\n",
    "    return traj.load(index)\n",
    "\n",
    "@ipywidgets.interact(frame=(0, num_frames - 1))\n",
    "def update(frame=0, replicated=True):\n",
    "    if replicated:\n",
    "        model = get_model(frame)\n",
    "        new_bonds = model.predict(test_bonds).reshape((-1, 3))\n",
    "        prim.points = new_bonds\n",
    "    else:\n",
    "        prim.points = test_bonds\n",
    "    scene.render()"
   ]
  },
  {
   "cell_type": "code",
   "execution_count": null,
   "metadata": {},
   "outputs": [],
   "source": [
    "if not notebook:\n",
    "    !rm -rf /tmp/frames && mkdir /tmp/frames\n",
    "\n",
    "    for i in range(num_frames):\n",
    "        update(i)\n",
    "        scene.save('/tmp/frames/frame.{:05d}.png'.format(i))"
   ]
  },
  {
   "cell_type": "code",
   "execution_count": null,
   "metadata": {},
   "outputs": [],
   "source": []
  }
 ],
 "metadata": {
  "kernelspec": {
   "display_name": "Python 3",
   "language": "python",
   "name": "python3"
  },
  "language_info": {
   "codemirror_mode": {
    "name": "ipython",
    "version": 3
   },
   "file_extension": ".py",
   "mimetype": "text/x-python",
   "name": "python",
   "nbconvert_exporter": "python",
   "pygments_lexer": "ipython3",
   "version": "3.8.3"
  }
 },
 "nbformat": 4,
 "nbformat_minor": 2
}
